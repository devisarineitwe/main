{
 "cells": [
  {
   "cell_type": "code",
   "execution_count": 19,
   "id": "bf9f1cdd",
   "metadata": {},
   "outputs": [
    {
     "data": {
      "text/plain": [
       "2"
      ]
     },
     "execution_count": 19,
     "metadata": {},
     "output_type": "execute_result"
    }
   ],
   "source": [
    "import math\n",
    "class BasicCalculator:\n",
    "    def add(self, x, y):        \n",
    "        return x +y\n",
    "    \n",
    "    \n",
    "    def sub(self, x, y):\n",
    "        return x-y\n",
    "    \n",
    "    \n",
    "    def div(self, x, y):\n",
    "        return x/y\n",
    "    \n",
    "    \n",
    "    def mult(self, x, y):\n",
    "        return x*y\n",
    "    \n",
    "    \n",
    "    def power(self, base, exponent):\n",
    "        print(f'{base} exponent {exponent} = {base**exponent}')\n",
    "        return base**exponent\n",
    "    \n",
    "    def sqrt(self, x):\n",
    "        return math.sqrt(x)\n",
    "    \n",
    "calc = BasicCalculator()\n",
    "int(calc.sqrt(4))\n",
    "    \n",
    "    \n",
    "\n",
    "        \n",
    "    \n",
    "    \n",
    "    "
   ]
  },
  {
   "cell_type": "code",
   "execution_count": null,
   "id": "6bfdb7f2",
   "metadata": {},
   "outputs": [],
   "source": []
  },
  {
   "cell_type": "code",
   "execution_count": null,
   "id": "8070eba2",
   "metadata": {},
   "outputs": [],
   "source": []
  }
 ],
 "metadata": {
  "kernelspec": {
   "display_name": "Python 3 (ipykernel)",
   "language": "python",
   "name": "python3"
  },
  "language_info": {
   "codemirror_mode": {
    "name": "ipython",
    "version": 3
   },
   "file_extension": ".py",
   "mimetype": "text/x-python",
   "name": "python",
   "nbconvert_exporter": "python",
   "pygments_lexer": "ipython3",
   "version": "3.9.13"
  }
 },
 "nbformat": 4,
 "nbformat_minor": 5
}
