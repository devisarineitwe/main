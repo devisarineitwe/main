{
 "cells": [
  {
   "cell_type": "markdown",
   "id": "89cf3c29",
   "metadata": {},
   "source": [
    "# Iterators"
   ]
  },
  {
   "cell_type": "markdown",
   "id": "6a854b7a",
   "metadata": {},
   "source": [
    "this is one which allows one to traverse items. it has the iter() function which calls the iter method and crete the iterable objecect. Then the next() method reads the next items in the object"
   ]
  },
  {
   "cell_type": "code",
   "execution_count": 12,
   "id": "b72705a3",
   "metadata": {},
   "outputs": [
    {
     "name": "stdout",
     "output_type": "stream",
     "text": [
      "1\n",
      "2\n",
      "3\n",
      "4\n",
      "5\n"
     ]
    }
   ],
   "source": [
    "my_list = [1, 2, 3, 4, 5]\n",
    "my_iter = iter(my_list)\n",
    "print(next(my_iter))\n",
    "print(next(my_iter))\n",
    "print(next(my_iter))\n",
    "print(next(my_iter))\n",
    "print(next(my_iter))"
   ]
  },
  {
   "cell_type": "markdown",
   "id": "258c2a28",
   "metadata": {},
   "source": [
    "alternatively"
   ]
  },
  {
   "cell_type": "code",
   "execution_count": 14,
   "id": "fb71d80a",
   "metadata": {},
   "outputs": [
    {
     "name": "stdout",
     "output_type": "stream",
     "text": [
      "1\n",
      "2\n",
      "3\n",
      "4\n",
      "5\n"
     ]
    }
   ],
   "source": [
    "my_list = [1, 2, 3, 4, 5]\n",
    "my_iter = iter(my_list)\n",
    "while True:\n",
    "    try:\n",
    "        element = next(my_iter)\n",
    "        print(element)\n",
    "    except StopIteration:\n",
    "        break\n",
    "        "
   ]
  },
  {
   "cell_type": "markdown",
   "id": "1d34d177",
   "metadata": {},
   "source": [
    "alternatively"
   ]
  },
  {
   "cell_type": "code",
   "execution_count": 18,
   "id": "1149d877",
   "metadata": {},
   "outputs": [
    {
     "name": "stdout",
     "output_type": "stream",
     "text": [
      "1\n",
      "2\n",
      "3\n",
      "4\n",
      "5\n"
     ]
    }
   ],
   "source": [
    "my_list = [1, 2, 3, 4, 5]\n",
    "my_iter = iter(my_list)\n",
    "for i in range(len(my_list)) :\n",
    "    print(next(my_iter))"
   ]
  },
  {
   "cell_type": "markdown",
   "id": "2bddff01",
   "metadata": {},
   "source": [
    "# the simple way to access an iterator is the use of the loop"
   ]
  },
  {
   "cell_type": "code",
   "execution_count": 19,
   "id": "d86b3e86",
   "metadata": {},
   "outputs": [
    {
     "name": "stdout",
     "output_type": "stream",
     "text": [
      "1\n",
      "2\n",
      "3\n",
      "4\n",
      "5\n"
     ]
    }
   ],
   "source": [
    "for i in my_list:\n",
    "    print(i)"
   ]
  },
  {
   "cell_type": "code",
   "execution_count": 21,
   "id": "f5d621d5",
   "metadata": {},
   "outputs": [
    {
     "name": "stdout",
     "output_type": "stream",
     "text": [
      "1\n",
      "2\n",
      "3\n",
      "4\n",
      "5\n"
     ]
    }
   ],
   "source": [
    "i=0\n",
    "while True:\n",
    "    try:\n",
    "        print(my_list[i])\n",
    "        i+=1\n",
    "    except:\n",
    "        break"
   ]
  },
  {
   "cell_type": "code",
   "execution_count": null,
   "id": "667af259",
   "metadata": {},
   "outputs": [],
   "source": []
  }
 ],
 "metadata": {
  "kernelspec": {
   "display_name": "Python 3 (ipykernel)",
   "language": "python",
   "name": "python3"
  },
  "language_info": {
   "codemirror_mode": {
    "name": "ipython",
    "version": 3
   },
   "file_extension": ".py",
   "mimetype": "text/x-python",
   "name": "python",
   "nbconvert_exporter": "python",
   "pygments_lexer": "ipython3",
   "version": "3.9.13"
  }
 },
 "nbformat": 4,
 "nbformat_minor": 5
}
